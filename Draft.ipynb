{
  "cells": [
    {
      "cell_type": "markdown",
      "metadata": {
        "id": "zGdGaeyIEfUk"
      },
      "source": [
        "# Part 1"
      ]
    },
    {
      "cell_type": "code",
      "execution_count": 98,
      "metadata": {
        "colab": {
          "base_uri": "https://localhost:8080/"
        },
        "id": "6QR_7ba3cN7Y",
        "outputId": "e78f2cfd-5470-4ff4-c14e-5c45c83a66cd"
      },
      "outputs": [
        {
          "name": "stdout",
          "output_type": "stream",
          "text": [
            "Requirement already satisfied: chembl_webresource_client in /opt/homebrew/lib/python3.11/site-packages (0.10.8)\n",
            "Requirement already satisfied: urllib3 in /opt/homebrew/lib/python3.11/site-packages (from chembl_webresource_client) (1.26.16)\n",
            "Requirement already satisfied: requests>=2.18.4 in /opt/homebrew/lib/python3.11/site-packages (from chembl_webresource_client) (2.30.0)\n",
            "Requirement already satisfied: requests-cache~=0.7.0 in /opt/homebrew/lib/python3.11/site-packages (from chembl_webresource_client) (0.7.5)\n",
            "Requirement already satisfied: easydict in /opt/homebrew/lib/python3.11/site-packages (from chembl_webresource_client) (1.10)\n",
            "Requirement already satisfied: charset-normalizer<4,>=2 in /opt/homebrew/lib/python3.11/site-packages (from requests>=2.18.4->chembl_webresource_client) (3.1.0)\n",
            "Requirement already satisfied: idna<4,>=2.5 in /opt/homebrew/lib/python3.11/site-packages (from requests>=2.18.4->chembl_webresource_client) (3.4)\n",
            "Requirement already satisfied: certifi>=2017.4.17 in /opt/homebrew/lib/python3.11/site-packages (from requests>=2.18.4->chembl_webresource_client) (2023.5.7)\n",
            "Requirement already satisfied: attrs<22.0,>=21.2 in /opt/homebrew/lib/python3.11/site-packages (from requests-cache~=0.7.0->chembl_webresource_client) (21.4.0)\n",
            "Requirement already satisfied: itsdangerous>=2.0.1 in /opt/homebrew/lib/python3.11/site-packages (from requests-cache~=0.7.0->chembl_webresource_client) (2.1.2)\n",
            "Requirement already satisfied: pyyaml>=5.4 in /opt/homebrew/lib/python3.11/site-packages (from requests-cache~=0.7.0->chembl_webresource_client) (6.0)\n",
            "Requirement already satisfied: url-normalize<2.0,>=1.4 in /opt/homebrew/lib/python3.11/site-packages (from requests-cache~=0.7.0->chembl_webresource_client) (1.4.3)\n",
            "Requirement already satisfied: six in /opt/homebrew/lib/python3.11/site-packages (from url-normalize<2.0,>=1.4->requests-cache~=0.7.0->chembl_webresource_client) (1.16.0)\n"
          ]
        }
      ],
      "source": [
        "! pip install chembl_webresource_client"
      ]
    },
    {
      "cell_type": "code",
      "execution_count": 99,
      "metadata": {
        "id": "Zf6Jp8z9caQy"
      },
      "outputs": [],
      "source": [
        "import pandas as pd\n",
        "from chembl_webresource_client.new_client import new_client\n"
      ]
    },
    {
      "cell_type": "markdown",
      "metadata": {
        "id": "pv3PSxocMtE7"
      },
      "source": [
        "## Target Search\n"
      ]
    },
    {
      "cell_type": "code",
      "execution_count": 100,
      "metadata": {
        "colab": {
          "base_uri": "https://localhost:8080/",
          "height": 537
        },
        "id": "wB7PmN9NdzN_",
        "outputId": "cc098916-2256-4cfd-de30-db596829610c"
      },
      "outputs": [
        {
          "data": {
            "text/html": [
              "<div>\n",
              "<style scoped>\n",
              "    .dataframe tbody tr th:only-of-type {\n",
              "        vertical-align: middle;\n",
              "    }\n",
              "\n",
              "    .dataframe tbody tr th {\n",
              "        vertical-align: top;\n",
              "    }\n",
              "\n",
              "    .dataframe thead th {\n",
              "        text-align: right;\n",
              "    }\n",
              "</style>\n",
              "<table border=\"1\" class=\"dataframe\">\n",
              "  <thead>\n",
              "    <tr style=\"text-align: right;\">\n",
              "      <th></th>\n",
              "      <th>cross_references</th>\n",
              "      <th>organism</th>\n",
              "      <th>pref_name</th>\n",
              "      <th>score</th>\n",
              "      <th>species_group_flag</th>\n",
              "      <th>target_chembl_id</th>\n",
              "      <th>target_components</th>\n",
              "      <th>target_type</th>\n",
              "      <th>tax_id</th>\n",
              "    </tr>\n",
              "  </thead>\n",
              "  <tbody>\n",
              "    <tr>\n",
              "      <th>0</th>\n",
              "      <td>[{'xref_id': 'P22303', 'xref_name': None, 'xre...</td>\n",
              "      <td>Homo sapiens</td>\n",
              "      <td>Acetylcholinesterase</td>\n",
              "      <td>27.0</td>\n",
              "      <td>False</td>\n",
              "      <td>CHEMBL220</td>\n",
              "      <td>[{'accession': 'P22303', 'component_descriptio...</td>\n",
              "      <td>SINGLE PROTEIN</td>\n",
              "      <td>9606</td>\n",
              "    </tr>\n",
              "    <tr>\n",
              "      <th>1</th>\n",
              "      <td>[]</td>\n",
              "      <td>Homo sapiens</td>\n",
              "      <td>Cholinesterases; ACHE &amp; BCHE</td>\n",
              "      <td>27.0</td>\n",
              "      <td>False</td>\n",
              "      <td>CHEMBL2095233</td>\n",
              "      <td>[{'accession': 'P06276', 'component_descriptio...</td>\n",
              "      <td>SELECTIVITY GROUP</td>\n",
              "      <td>9606</td>\n",
              "    </tr>\n",
              "    <tr>\n",
              "      <th>2</th>\n",
              "      <td>[]</td>\n",
              "      <td>Drosophila melanogaster</td>\n",
              "      <td>Acetylcholinesterase</td>\n",
              "      <td>18.0</td>\n",
              "      <td>False</td>\n",
              "      <td>CHEMBL2242744</td>\n",
              "      <td>[{'accession': 'P07140', 'component_descriptio...</td>\n",
              "      <td>SINGLE PROTEIN</td>\n",
              "      <td>7227</td>\n",
              "    </tr>\n",
              "    <tr>\n",
              "      <th>3</th>\n",
              "      <td>[]</td>\n",
              "      <td>Bemisia tabaci</td>\n",
              "      <td>AChE2</td>\n",
              "      <td>16.0</td>\n",
              "      <td>False</td>\n",
              "      <td>CHEMBL2366409</td>\n",
              "      <td>[{'accession': 'B3SST5', 'component_descriptio...</td>\n",
              "      <td>SINGLE PROTEIN</td>\n",
              "      <td>7038</td>\n",
              "    </tr>\n",
              "    <tr>\n",
              "      <th>4</th>\n",
              "      <td>[]</td>\n",
              "      <td>Leptinotarsa decemlineata</td>\n",
              "      <td>Acetylcholinesterase</td>\n",
              "      <td>16.0</td>\n",
              "      <td>False</td>\n",
              "      <td>CHEMBL2366490</td>\n",
              "      <td>[{'accession': 'Q27677', 'component_descriptio...</td>\n",
              "      <td>SINGLE PROTEIN</td>\n",
              "      <td>7539</td>\n",
              "    </tr>\n",
              "    <tr>\n",
              "      <th>5</th>\n",
              "      <td>[{'xref_id': 'P04058', 'xref_name': None, 'xre...</td>\n",
              "      <td>Torpedo californica</td>\n",
              "      <td>Acetylcholinesterase</td>\n",
              "      <td>15.0</td>\n",
              "      <td>False</td>\n",
              "      <td>CHEMBL4780</td>\n",
              "      <td>[{'accession': 'P04058', 'component_descriptio...</td>\n",
              "      <td>SINGLE PROTEIN</td>\n",
              "      <td>7787</td>\n",
              "    </tr>\n",
              "    <tr>\n",
              "      <th>6</th>\n",
              "      <td>[{'xref_id': 'P21836', 'xref_name': None, 'xre...</td>\n",
              "      <td>Mus musculus</td>\n",
              "      <td>Acetylcholinesterase</td>\n",
              "      <td>15.0</td>\n",
              "      <td>False</td>\n",
              "      <td>CHEMBL3198</td>\n",
              "      <td>[{'accession': 'P21836', 'component_descriptio...</td>\n",
              "      <td>SINGLE PROTEIN</td>\n",
              "      <td>10090</td>\n",
              "    </tr>\n",
              "    <tr>\n",
              "      <th>7</th>\n",
              "      <td>[{'xref_id': 'P37136', 'xref_name': None, 'xre...</td>\n",
              "      <td>Rattus norvegicus</td>\n",
              "      <td>Acetylcholinesterase</td>\n",
              "      <td>15.0</td>\n",
              "      <td>False</td>\n",
              "      <td>CHEMBL3199</td>\n",
              "      <td>[{'accession': 'P37136', 'component_descriptio...</td>\n",
              "      <td>SINGLE PROTEIN</td>\n",
              "      <td>10116</td>\n",
              "    </tr>\n",
              "    <tr>\n",
              "      <th>8</th>\n",
              "      <td>[{'xref_id': 'O42275', 'xref_name': None, 'xre...</td>\n",
              "      <td>Electrophorus electricus</td>\n",
              "      <td>Acetylcholinesterase</td>\n",
              "      <td>15.0</td>\n",
              "      <td>False</td>\n",
              "      <td>CHEMBL4078</td>\n",
              "      <td>[{'accession': 'O42275', 'component_descriptio...</td>\n",
              "      <td>SINGLE PROTEIN</td>\n",
              "      <td>8005</td>\n",
              "    </tr>\n",
              "    <tr>\n",
              "      <th>9</th>\n",
              "      <td>[{'xref_id': 'P23795', 'xref_name': None, 'xre...</td>\n",
              "      <td>Bos taurus</td>\n",
              "      <td>Acetylcholinesterase</td>\n",
              "      <td>15.0</td>\n",
              "      <td>False</td>\n",
              "      <td>CHEMBL4768</td>\n",
              "      <td>[{'accession': 'P23795', 'component_descriptio...</td>\n",
              "      <td>SINGLE PROTEIN</td>\n",
              "      <td>9913</td>\n",
              "    </tr>\n",
              "    <tr>\n",
              "      <th>10</th>\n",
              "      <td>[]</td>\n",
              "      <td>Anopheles gambiae</td>\n",
              "      <td>Acetylcholinesterase</td>\n",
              "      <td>15.0</td>\n",
              "      <td>False</td>\n",
              "      <td>CHEMBL2046266</td>\n",
              "      <td>[{'accession': 'Q869C3', 'component_descriptio...</td>\n",
              "      <td>SINGLE PROTEIN</td>\n",
              "      <td>7165</td>\n",
              "    </tr>\n",
              "    <tr>\n",
              "      <th>11</th>\n",
              "      <td>[]</td>\n",
              "      <td>Nephotettix cincticeps</td>\n",
              "      <td>Ace-orthologous acetylcholinesterase</td>\n",
              "      <td>15.0</td>\n",
              "      <td>False</td>\n",
              "      <td>CHEMBL2366514</td>\n",
              "      <td>[{'accession': 'Q9NJH6', 'component_descriptio...</td>\n",
              "      <td>SINGLE PROTEIN</td>\n",
              "      <td>94400</td>\n",
              "    </tr>\n",
              "    <tr>\n",
              "      <th>12</th>\n",
              "      <td>[]</td>\n",
              "      <td>Gallus gallus</td>\n",
              "      <td>Acetylcholinesterase</td>\n",
              "      <td>15.0</td>\n",
              "      <td>False</td>\n",
              "      <td>CHEMBL3227914</td>\n",
              "      <td>[{'accession': 'P36196', 'component_descriptio...</td>\n",
              "      <td>SINGLE PROTEIN</td>\n",
              "      <td>9031</td>\n",
              "    </tr>\n",
              "    <tr>\n",
              "      <th>13</th>\n",
              "      <td>[]</td>\n",
              "      <td>Danio rerio</td>\n",
              "      <td>Acetylcholinesterase</td>\n",
              "      <td>15.0</td>\n",
              "      <td>False</td>\n",
              "      <td>CHEMBL3308995</td>\n",
              "      <td>[{'accession': 'Q9DDE3', 'component_descriptio...</td>\n",
              "      <td>SINGLE PROTEIN</td>\n",
              "      <td>7955</td>\n",
              "    </tr>\n",
              "    <tr>\n",
              "      <th>14</th>\n",
              "      <td>[]</td>\n",
              "      <td>Aedes aegypti</td>\n",
              "      <td>Acetylcholinesterase</td>\n",
              "      <td>15.0</td>\n",
              "      <td>False</td>\n",
              "      <td>CHEMBL4295607</td>\n",
              "      <td>[{'accession': 'Q6A2E2', 'component_descriptio...</td>\n",
              "      <td>SINGLE PROTEIN</td>\n",
              "      <td>7159</td>\n",
              "    </tr>\n",
              "    <tr>\n",
              "      <th>15</th>\n",
              "      <td>[{'xref_id': 'Q95P20', 'xref_name': None, 'xre...</td>\n",
              "      <td>Musca domestica</td>\n",
              "      <td>Acetylcholinesterase</td>\n",
              "      <td>14.0</td>\n",
              "      <td>False</td>\n",
              "      <td>CHEMBL5752</td>\n",
              "      <td>[{'accession': 'Q95P20', 'component_descriptio...</td>\n",
              "      <td>SINGLE PROTEIN</td>\n",
              "      <td>7370</td>\n",
              "    </tr>\n",
              "    <tr>\n",
              "      <th>16</th>\n",
              "      <td>[]</td>\n",
              "      <td>Rattus norvegicus</td>\n",
              "      <td>Acetylcholinesterase and butyrylcholinesterase...</td>\n",
              "      <td>14.0</td>\n",
              "      <td>False</td>\n",
              "      <td>CHEMBL2111475</td>\n",
              "      <td>[{'accession': 'P37136', 'component_descriptio...</td>\n",
              "      <td>SELECTIVITY GROUP</td>\n",
              "      <td>10116</td>\n",
              "    </tr>\n",
              "    <tr>\n",
              "      <th>17</th>\n",
              "      <td>[]</td>\n",
              "      <td>Plutella xylostella</td>\n",
              "      <td>Acetylcholinesterase</td>\n",
              "      <td>14.0</td>\n",
              "      <td>False</td>\n",
              "      <td>CHEMBL2242729</td>\n",
              "      <td>[{'accession': 'Q8MZM0', 'component_descriptio...</td>\n",
              "      <td>SINGLE PROTEIN</td>\n",
              "      <td>51655</td>\n",
              "    </tr>\n",
              "    <tr>\n",
              "      <th>18</th>\n",
              "      <td>[]</td>\n",
              "      <td>Musca domestica</td>\n",
              "      <td>Acetylcholinesterase</td>\n",
              "      <td>14.0</td>\n",
              "      <td>False</td>\n",
              "      <td>CHEMBL2242743</td>\n",
              "      <td>[{'accession': 'Q7YWJ9', 'component_descriptio...</td>\n",
              "      <td>SINGLE PROTEIN</td>\n",
              "      <td>7370</td>\n",
              "    </tr>\n",
              "    <tr>\n",
              "      <th>19</th>\n",
              "      <td>[]</td>\n",
              "      <td>Pediculus humanus capitis</td>\n",
              "      <td>Acetylcholinesterase</td>\n",
              "      <td>14.0</td>\n",
              "      <td>False</td>\n",
              "      <td>CHEMBL2362988</td>\n",
              "      <td>[{'accession': 'A2PZ98', 'component_descriptio...</td>\n",
              "      <td>SINGLE PROTEIN</td>\n",
              "      <td>121226</td>\n",
              "    </tr>\n",
              "    <tr>\n",
              "      <th>20</th>\n",
              "      <td>[]</td>\n",
              "      <td>Spodoptera litura</td>\n",
              "      <td>Acetylcholinesterase</td>\n",
              "      <td>14.0</td>\n",
              "      <td>False</td>\n",
              "      <td>CHEMBL2366422</td>\n",
              "      <td>[{'accession': 'C5IU80', 'component_descriptio...</td>\n",
              "      <td>SINGLE PROTEIN</td>\n",
              "      <td>69820</td>\n",
              "    </tr>\n",
              "    <tr>\n",
              "      <th>21</th>\n",
              "      <td>[]</td>\n",
              "      <td>Laodelphax striatella</td>\n",
              "      <td>Acetylcholinesterase</td>\n",
              "      <td>14.0</td>\n",
              "      <td>False</td>\n",
              "      <td>CHEMBL2366446</td>\n",
              "      <td>[{'accession': 'K4JQ36', 'component_descriptio...</td>\n",
              "      <td>SINGLE PROTEIN</td>\n",
              "      <td>195883</td>\n",
              "    </tr>\n",
              "    <tr>\n",
              "      <th>22</th>\n",
              "      <td>[]</td>\n",
              "      <td>Schizaphis graminum</td>\n",
              "      <td>Acetylcholinesterase</td>\n",
              "      <td>14.0</td>\n",
              "      <td>False</td>\n",
              "      <td>CHEMBL2366511</td>\n",
              "      <td>[{'accession': 'Q9BMJ1', 'component_descriptio...</td>\n",
              "      <td>SINGLE PROTEIN</td>\n",
              "      <td>13262</td>\n",
              "    </tr>\n",
              "    <tr>\n",
              "      <th>23</th>\n",
              "      <td>[]</td>\n",
              "      <td>Caenorhabditis elegans</td>\n",
              "      <td>Acetylcholinesterase 1</td>\n",
              "      <td>14.0</td>\n",
              "      <td>False</td>\n",
              "      <td>CHEMBL3341583</td>\n",
              "      <td>[{'accession': 'P38433', 'component_descriptio...</td>\n",
              "      <td>SINGLE PROTEIN</td>\n",
              "      <td>6239</td>\n",
              "    </tr>\n",
              "  </tbody>\n",
              "</table>\n",
              "</div>"
            ],
            "text/plain": [
              "                                     cross_references   \n",
              "0   [{'xref_id': 'P22303', 'xref_name': None, 'xre...  \\\n",
              "1                                                  []   \n",
              "2                                                  []   \n",
              "3                                                  []   \n",
              "4                                                  []   \n",
              "5   [{'xref_id': 'P04058', 'xref_name': None, 'xre...   \n",
              "6   [{'xref_id': 'P21836', 'xref_name': None, 'xre...   \n",
              "7   [{'xref_id': 'P37136', 'xref_name': None, 'xre...   \n",
              "8   [{'xref_id': 'O42275', 'xref_name': None, 'xre...   \n",
              "9   [{'xref_id': 'P23795', 'xref_name': None, 'xre...   \n",
              "10                                                 []   \n",
              "11                                                 []   \n",
              "12                                                 []   \n",
              "13                                                 []   \n",
              "14                                                 []   \n",
              "15  [{'xref_id': 'Q95P20', 'xref_name': None, 'xre...   \n",
              "16                                                 []   \n",
              "17                                                 []   \n",
              "18                                                 []   \n",
              "19                                                 []   \n",
              "20                                                 []   \n",
              "21                                                 []   \n",
              "22                                                 []   \n",
              "23                                                 []   \n",
              "\n",
              "                     organism   \n",
              "0                Homo sapiens  \\\n",
              "1                Homo sapiens   \n",
              "2     Drosophila melanogaster   \n",
              "3              Bemisia tabaci   \n",
              "4   Leptinotarsa decemlineata   \n",
              "5         Torpedo californica   \n",
              "6                Mus musculus   \n",
              "7           Rattus norvegicus   \n",
              "8    Electrophorus electricus   \n",
              "9                  Bos taurus   \n",
              "10          Anopheles gambiae   \n",
              "11     Nephotettix cincticeps   \n",
              "12              Gallus gallus   \n",
              "13                Danio rerio   \n",
              "14              Aedes aegypti   \n",
              "15            Musca domestica   \n",
              "16          Rattus norvegicus   \n",
              "17        Plutella xylostella   \n",
              "18            Musca domestica   \n",
              "19  Pediculus humanus capitis   \n",
              "20          Spodoptera litura   \n",
              "21      Laodelphax striatella   \n",
              "22        Schizaphis graminum   \n",
              "23     Caenorhabditis elegans   \n",
              "\n",
              "                                            pref_name  score   \n",
              "0                                Acetylcholinesterase   27.0  \\\n",
              "1                        Cholinesterases; ACHE & BCHE   27.0   \n",
              "2                                Acetylcholinesterase   18.0   \n",
              "3                                               AChE2   16.0   \n",
              "4                                Acetylcholinesterase   16.0   \n",
              "5                                Acetylcholinesterase   15.0   \n",
              "6                                Acetylcholinesterase   15.0   \n",
              "7                                Acetylcholinesterase   15.0   \n",
              "8                                Acetylcholinesterase   15.0   \n",
              "9                                Acetylcholinesterase   15.0   \n",
              "10                               Acetylcholinesterase   15.0   \n",
              "11               Ace-orthologous acetylcholinesterase   15.0   \n",
              "12                               Acetylcholinesterase   15.0   \n",
              "13                               Acetylcholinesterase   15.0   \n",
              "14                               Acetylcholinesterase   15.0   \n",
              "15                               Acetylcholinesterase   14.0   \n",
              "16  Acetylcholinesterase and butyrylcholinesterase...   14.0   \n",
              "17                               Acetylcholinesterase   14.0   \n",
              "18                               Acetylcholinesterase   14.0   \n",
              "19                               Acetylcholinesterase   14.0   \n",
              "20                               Acetylcholinesterase   14.0   \n",
              "21                               Acetylcholinesterase   14.0   \n",
              "22                               Acetylcholinesterase   14.0   \n",
              "23                             Acetylcholinesterase 1   14.0   \n",
              "\n",
              "    species_group_flag target_chembl_id   \n",
              "0                False        CHEMBL220  \\\n",
              "1                False    CHEMBL2095233   \n",
              "2                False    CHEMBL2242744   \n",
              "3                False    CHEMBL2366409   \n",
              "4                False    CHEMBL2366490   \n",
              "5                False       CHEMBL4780   \n",
              "6                False       CHEMBL3198   \n",
              "7                False       CHEMBL3199   \n",
              "8                False       CHEMBL4078   \n",
              "9                False       CHEMBL4768   \n",
              "10               False    CHEMBL2046266   \n",
              "11               False    CHEMBL2366514   \n",
              "12               False    CHEMBL3227914   \n",
              "13               False    CHEMBL3308995   \n",
              "14               False    CHEMBL4295607   \n",
              "15               False       CHEMBL5752   \n",
              "16               False    CHEMBL2111475   \n",
              "17               False    CHEMBL2242729   \n",
              "18               False    CHEMBL2242743   \n",
              "19               False    CHEMBL2362988   \n",
              "20               False    CHEMBL2366422   \n",
              "21               False    CHEMBL2366446   \n",
              "22               False    CHEMBL2366511   \n",
              "23               False    CHEMBL3341583   \n",
              "\n",
              "                                    target_components        target_type   \n",
              "0   [{'accession': 'P22303', 'component_descriptio...     SINGLE PROTEIN  \\\n",
              "1   [{'accession': 'P06276', 'component_descriptio...  SELECTIVITY GROUP   \n",
              "2   [{'accession': 'P07140', 'component_descriptio...     SINGLE PROTEIN   \n",
              "3   [{'accession': 'B3SST5', 'component_descriptio...     SINGLE PROTEIN   \n",
              "4   [{'accession': 'Q27677', 'component_descriptio...     SINGLE PROTEIN   \n",
              "5   [{'accession': 'P04058', 'component_descriptio...     SINGLE PROTEIN   \n",
              "6   [{'accession': 'P21836', 'component_descriptio...     SINGLE PROTEIN   \n",
              "7   [{'accession': 'P37136', 'component_descriptio...     SINGLE PROTEIN   \n",
              "8   [{'accession': 'O42275', 'component_descriptio...     SINGLE PROTEIN   \n",
              "9   [{'accession': 'P23795', 'component_descriptio...     SINGLE PROTEIN   \n",
              "10  [{'accession': 'Q869C3', 'component_descriptio...     SINGLE PROTEIN   \n",
              "11  [{'accession': 'Q9NJH6', 'component_descriptio...     SINGLE PROTEIN   \n",
              "12  [{'accession': 'P36196', 'component_descriptio...     SINGLE PROTEIN   \n",
              "13  [{'accession': 'Q9DDE3', 'component_descriptio...     SINGLE PROTEIN   \n",
              "14  [{'accession': 'Q6A2E2', 'component_descriptio...     SINGLE PROTEIN   \n",
              "15  [{'accession': 'Q95P20', 'component_descriptio...     SINGLE PROTEIN   \n",
              "16  [{'accession': 'P37136', 'component_descriptio...  SELECTIVITY GROUP   \n",
              "17  [{'accession': 'Q8MZM0', 'component_descriptio...     SINGLE PROTEIN   \n",
              "18  [{'accession': 'Q7YWJ9', 'component_descriptio...     SINGLE PROTEIN   \n",
              "19  [{'accession': 'A2PZ98', 'component_descriptio...     SINGLE PROTEIN   \n",
              "20  [{'accession': 'C5IU80', 'component_descriptio...     SINGLE PROTEIN   \n",
              "21  [{'accession': 'K4JQ36', 'component_descriptio...     SINGLE PROTEIN   \n",
              "22  [{'accession': 'Q9BMJ1', 'component_descriptio...     SINGLE PROTEIN   \n",
              "23  [{'accession': 'P38433', 'component_descriptio...     SINGLE PROTEIN   \n",
              "\n",
              "    tax_id  \n",
              "0     9606  \n",
              "1     9606  \n",
              "2     7227  \n",
              "3     7038  \n",
              "4     7539  \n",
              "5     7787  \n",
              "6    10090  \n",
              "7    10116  \n",
              "8     8005  \n",
              "9     9913  \n",
              "10    7165  \n",
              "11   94400  \n",
              "12    9031  \n",
              "13    7955  \n",
              "14    7159  \n",
              "15    7370  \n",
              "16   10116  \n",
              "17   51655  \n",
              "18    7370  \n",
              "19  121226  \n",
              "20   69820  \n",
              "21  195883  \n",
              "22   13262  \n",
              "23    6239  "
            ]
          },
          "execution_count": 100,
          "metadata": {},
          "output_type": "execute_result"
        }
      ],
      "source": [
        "# Target search for coronavirus\n",
        "target = new_client.target\n",
        "target_query = target.search('acetylcholinesterase')\n",
        "targets = pd.DataFrame.from_dict(target_query)\n",
        "targets\n"
      ]
    },
    {
      "cell_type": "code",
      "execution_count": 101,
      "metadata": {
        "colab": {
          "base_uri": "https://localhost:8080/",
          "height": 35
        },
        "id": "aAtOqd4VeBrf",
        "outputId": "d7e97001-f22b-44ac-c5c0-e8fd6ab59a0d"
      },
      "outputs": [
        {
          "data": {
            "text/plain": [
              "'CHEMBL220'"
            ]
          },
          "execution_count": 101,
          "metadata": {},
          "output_type": "execute_result"
        }
      ],
      "source": [
        "\n",
        "selected_target = targets.target_chembl_id[0]\n",
        "selected_target"
      ]
    },
    {
      "cell_type": "code",
      "execution_count": 102,
      "metadata": {
        "id": "wCH-9AhEeNJE"
      },
      "outputs": [],
      "source": [
        "\n",
        "\n",
        "activity = new_client.activity\n",
        "res = activity.filter(target_chembl_id=selected_target).filter(standard_type=\"IC50\")"
      ]
    },
    {
      "cell_type": "code",
      "execution_count": 103,
      "metadata": {
        "colab": {
          "base_uri": "https://localhost:8080/",
          "height": 791
        },
        "id": "Hi0We6DTeUmq",
        "outputId": "5d1b15c9-dec4-4083-e55c-2c0665ccde20"
      },
      "outputs": [],
      "source": [
        "df = pd.DataFrame.from_dict(res)\n",
        "df\n"
      ]
    },
    {
      "cell_type": "code",
      "execution_count": null,
      "metadata": {
        "id": "bZFkqfcuekrD"
      },
      "outputs": [],
      "source": [
        "\n",
        "df.to_csv('bioactivity_data_raw.csv', index=False)\n"
      ]
    },
    {
      "cell_type": "code",
      "execution_count": null,
      "metadata": {
        "colab": {
          "base_uri": "https://localhost:8080/",
          "height": 791
        },
        "id": "Nx4gJpCGi6RJ",
        "outputId": "f5ad2208-d1e3-43a0-b7be-cf2197614bc1"
      },
      "outputs": [],
      "source": [
        "\n",
        "df2 = df[df.standard_value.notna()]\n",
        "df2 = df2[df.canonical_smiles.notna()]\n",
        "df2"
      ]
    },
    {
      "cell_type": "code",
      "execution_count": null,
      "metadata": {},
      "outputs": [],
      "source": [
        "\n",
        "len(df2.canonical_smiles.unique())\n",
        "\n",
        "df2_nr = df2.drop_duplicates(['canonical_smiles'])\n",
        "df2_nr\n",
        "     "
      ]
    },
    {
      "cell_type": "code",
      "execution_count": null,
      "metadata": {
        "id": "K-O5m6VsjOFp"
      },
      "outputs": [],
      "source": [
        "\n",
        "selection = ['molecule_chembl_id','canonical_smiles','standard_value']\n",
        "df3 = df2_nr[selection]\n",
        "df3"
      ]
    },
    {
      "cell_type": "code",
      "execution_count": null,
      "metadata": {
        "colab": {
          "base_uri": "https://localhost:8080/",
          "height": 424
        },
        "id": "wR-qvysV5R5f",
        "outputId": "f98c826a-ceb7-4e0b-b8c6-f015ad14a4b9"
      },
      "outputs": [],
      "source": [
        "\n",
        "df3.to_csv('acetylcholinesterase_02_bioactivity_data_preprocessed.csv', index=False)"
      ]
    },
    {
      "cell_type": "code",
      "execution_count": null,
      "metadata": {
        "id": "lCTM7Fu65iQW"
      },
      "outputs": [],
      "source": [
        "df4 = pd.read_csv('acetylcholinesterase_02_bioactivity_data_preprocessed.csv')"
      ]
    },
    {
      "cell_type": "code",
      "execution_count": null,
      "metadata": {},
      "outputs": [],
      "source": [
        "\n",
        "bioactivity_threshold = []\n",
        "for i in df4.standard_value:\n",
        "  if float(i) >= 10000:\n",
        "    bioactivity_threshold.append(\"inactive\")\n",
        "  elif float(i) <= 1000:\n",
        "    bioactivity_threshold.append(\"active\")\n",
        "  else:\n",
        "    bioactivity_threshold.append(\"intermediate\")"
      ]
    },
    {
      "cell_type": "code",
      "execution_count": null,
      "metadata": {},
      "outputs": [],
      "source": [
        "\n",
        "bioactivity_class = pd.Series(bioactivity_threshold, name='class')\n",
        "df5 = pd.concat([df4, bioactivity_class], axis=1)\n",
        "df5\n",
        "     "
      ]
    },
    {
      "cell_type": "code",
      "execution_count": null,
      "metadata": {},
      "outputs": [],
      "source": [
        "df5.to_csv('acetylcholinesterase_03_bioactivity_data_curated.csv', index=False)"
      ]
    },
    {
      "cell_type": "markdown",
      "metadata": {
        "id": "F-5zgQjxEjdG"
      },
      "source": [
        "# Part 2"
      ]
    },
    {
      "cell_type": "markdown",
      "metadata": {
        "id": "ZBjZg3CIMzky"
      },
      "source": [
        "### Install Conda and RdKit"
      ]
    },
    {
      "cell_type": "code",
      "execution_count": null,
      "metadata": {
        "colab": {
          "base_uri": "https://localhost:8080/"
        },
        "id": "Cim9izBEElA_",
        "outputId": "3ecccf0a-ed2a-447d-8d42-b6f3ac40d46b"
      },
      "outputs": [],
      "source": [
        "! wget https://repo.anaconda.com/miniconda/Miniconda3-py37_4.8.2-Linux-x86_64.sh\n",
        "! chmod +x Miniconda3-py37_4.8.2-Linux-x86_64.sh\n",
        "! bash ./Miniconda3-py37_4.8.2-Linux-x86_64.sh -b -f -p /usr/local\n",
        "! conda install -c rdkit rdkit -y\n",
        "import sys\n",
        "sys.path.append('/usr/local/lib/python3.7/site-packages/')"
      ]
    },
    {
      "cell_type": "code",
      "execution_count": null,
      "metadata": {
        "id": "h3-Wv6QxFz5Z"
      },
      "outputs": [],
      "source": [
        "df = pd.read_csv('acetylcholinesterase_03_bioactivity_data_curated.csv')\n",
        "df"
      ]
    },
    {
      "cell_type": "code",
      "execution_count": null,
      "metadata": {},
      "outputs": [],
      "source": [
        "df_no_smiles = df.drop(columns='canonical_smiles')"
      ]
    },
    {
      "cell_type": "code",
      "execution_count": null,
      "metadata": {},
      "outputs": [],
      "source": [
        "smiles = []\n",
        "\n",
        "for i in df.canonical_smiles.tolist():\n",
        "  cpd = str(i).split('.')\n",
        "  cpd_longest = max(cpd, key = len)\n",
        "  smiles.append(cpd_longest)\n",
        "\n",
        "smiles = pd.Series(smiles, name = 'canonical_smiles')"
      ]
    },
    {
      "cell_type": "code",
      "execution_count": null,
      "metadata": {},
      "outputs": [],
      "source": [
        "df_clean_smiles = pd.concat([df_no_smiles,smiles], axis=1)\n",
        "df_clean_smiles"
      ]
    },
    {
      "cell_type": "code",
      "execution_count": null,
      "metadata": {
        "colab": {
          "base_uri": "https://localhost:8080/"
        },
        "id": "dvTeRk76GKxz",
        "outputId": "bcf09d61-baa6-49f4-b55d-538d260048c9"
      },
      "outputs": [],
      "source": [
        "import numpy as np\n",
        "! pip install rdkit\n",
        "from rdkit import Chem\n",
        "from rdkit.Chem import Descriptors, Lipinski"
      ]
    },
    {
      "cell_type": "markdown",
      "metadata": {
        "id": "aZaj7CT_M7IH"
      },
      "source": [
        "### Calculate Lipinski Descriptors"
      ]
    },
    {
      "cell_type": "code",
      "execution_count": null,
      "metadata": {
        "id": "S0Kq-CgqG2Yx"
      },
      "outputs": [],
      "source": [
        "# Inspired by: https://codeocean.com/explore/capsules?query=tag:data-curation\n",
        "\n",
        "def lipinski(smiles, verbose=False):\n",
        "\n",
        "    moldata= []\n",
        "    for elem in smiles:\n",
        "        mol=Chem.MolFromSmiles(elem) \n",
        "        moldata.append(mol)\n",
        "       \n",
        "    baseData= np.arange(1,1)\n",
        "    i=0  \n",
        "    for mol in moldata:        \n",
        "       \n",
        "        desc_MolWt = Descriptors.MolWt(mol)\n",
        "        desc_MolLogP = Descriptors.MolLogP(mol)\n",
        "        desc_NumHDonors = Lipinski.NumHDonors(mol)\n",
        "        desc_NumHAcceptors = Lipinski.NumHAcceptors(mol)\n",
        "           \n",
        "        row = np.array([desc_MolWt,\n",
        "                        desc_MolLogP,\n",
        "                        desc_NumHDonors,\n",
        "                        desc_NumHAcceptors])   \n",
        "    \n",
        "        if(i==0):\n",
        "            baseData=row\n",
        "        else:\n",
        "            baseData=np.vstack([baseData, row])\n",
        "        i=i+1      \n",
        "    \n",
        "    columnNames=[\"MW\",\"LogP\",\"NumHDonors\",\"NumHAcceptors\"]   \n",
        "    descriptors = pd.DataFrame(data=baseData,columns=columnNames)\n",
        "    \n",
        "    return descriptors"
      ]
    },
    {
      "cell_type": "code",
      "execution_count": null,
      "metadata": {
        "id": "wBuMvrsWHHKY"
      },
      "outputs": [],
      "source": [
        "\n",
        "df_lipinski = lipinski(df_clean_smiles.canonical_smiles)\n",
        "df_lipinski"
      ]
    },
    {
      "cell_type": "markdown",
      "metadata": {
        "id": "_pZy2NhcNFuB"
      },
      "source": [
        "### Combine Dataframe"
      ]
    },
    {
      "cell_type": "code",
      "execution_count": null,
      "metadata": {
        "id": "GaO8srSSMcTs"
      },
      "outputs": [],
      "source": [
        "df_combined = pd.concat([df,df_lipinski], axis=1)"
      ]
    },
    {
      "cell_type": "code",
      "execution_count": null,
      "metadata": {
        "colab": {
          "base_uri": "https://localhost:8080/",
          "height": 441
        },
        "id": "S7NOwl5RMnG4",
        "outputId": "6a05e386-4226-4209-c393-f69220bc7d0e"
      },
      "outputs": [],
      "source": [
        "df_combined"
      ]
    },
    {
      "cell_type": "markdown",
      "metadata": {
        "id": "NKjCVc0iNJw2"
      },
      "source": [
        "### Convert IC50 to pIC50"
      ]
    },
    {
      "cell_type": "code",
      "execution_count": null,
      "metadata": {
        "colab": {
          "base_uri": "https://localhost:8080/"
        },
        "id": "S5uxF5lINT52",
        "outputId": "c25cd366-13c7-4705-ccbb-8bbec7950252"
      },
      "outputs": [],
      "source": [
        "df_combined.standard_value.describe()"
      ]
    },
    {
      "cell_type": "code",
      "execution_count": null,
      "metadata": {
        "id": "xbhoaAK4OqRA"
      },
      "outputs": [],
      "source": [
        "# https://github.com/chaninlab/estrogen-receptor-alpha-qsar/blob/master/02_ER_alpha_RO5.ipynb\n",
        "\n",
        "import numpy as np\n",
        "\n",
        "def pIC50(input):\n",
        "    pIC50 = []\n",
        "\n",
        "    for i in input['standard_value_norm']:\n",
        "        molar = i*(10**-9) # Converts nM to M\n",
        "        pIC50.append(-np.log10(molar))\n",
        "\n",
        "    input['pIC50'] = pIC50\n",
        "    x = input.drop('standard_value_norm', 1)\n",
        "        \n",
        "    return x"
      ]
    },
    {
      "cell_type": "code",
      "execution_count": null,
      "metadata": {},
      "outputs": [],
      "source": [
        "\n",
        "-np.log10( (10**-9)* 100000000 )"
      ]
    },
    {
      "cell_type": "code",
      "execution_count": null,
      "metadata": {
        "id": "3RVRI820Oxup"
      },
      "outputs": [],
      "source": [
        "\n",
        "-np.log10( (10**-9)* 100000000 )\n"
      ]
    },
    {
      "cell_type": "code",
      "execution_count": null,
      "metadata": {},
      "outputs": [],
      "source": [
        "\n",
        "def norm_value(input):\n",
        "    norm = []\n",
        "\n",
        "    for i in input['standard_value']:\n",
        "        if i > 100000000:\n",
        "          i = 100000000\n",
        "        norm.append(i)\n",
        "\n",
        "    input['standard_value_norm'] = norm\n",
        "    x = input.drop('standard_value', 1)\n",
        "        \n",
        "    return x"
      ]
    },
    {
      "cell_type": "code",
      "execution_count": null,
      "metadata": {},
      "outputs": [],
      "source": [
        "\n",
        "df_norm = norm_value(df_combined)\n",
        "df_norm\n",
        "     "
      ]
    },
    {
      "cell_type": "code",
      "execution_count": null,
      "metadata": {},
      "outputs": [],
      "source": [
        "df_norm.standard_value_norm.describe()"
      ]
    },
    {
      "cell_type": "code",
      "execution_count": null,
      "metadata": {},
      "outputs": [],
      "source": [
        "\n",
        "\n",
        "df_final = pIC50(df_norm)\n",
        "df_final"
      ]
    },
    {
      "cell_type": "code",
      "execution_count": null,
      "metadata": {},
      "outputs": [],
      "source": [
        "df_final.pIC50.describe()"
      ]
    },
    {
      "cell_type": "code",
      "execution_count": null,
      "metadata": {},
      "outputs": [],
      "source": [
        "\n",
        "df_final.to_csv('acetylcholinesterase_04_bioactivity_data_3class_pIC50.csv')"
      ]
    },
    {
      "cell_type": "markdown",
      "metadata": {
        "id": "tzUjgJGQO6ao"
      },
      "source": [
        "### Removing the 'intermediate' bioactivity class"
      ]
    },
    {
      "cell_type": "code",
      "execution_count": null,
      "metadata": {
        "id": "Wis6vCRfO46y"
      },
      "outputs": [],
      "source": [
        "\n",
        "df_2class = df_final[df_final['class'] != 'intermediate']\n",
        "df_2class"
      ]
    },
    {
      "cell_type": "code",
      "execution_count": null,
      "metadata": {},
      "outputs": [],
      "source": [
        "df_2class.to_csv('acetylcholinesterase_05_bioactivity_data_2class_pIC50.csv')"
      ]
    },
    {
      "cell_type": "markdown",
      "metadata": {
        "id": "zSrULQDwPzqg"
      },
      "source": [
        "### EDA"
      ]
    },
    {
      "cell_type": "code",
      "execution_count": null,
      "metadata": {
        "id": "Tkv3vH7oP1ko"
      },
      "outputs": [],
      "source": [
        "\n",
        "import seaborn as sns\n",
        "sns.set(style='ticks')\n",
        "import matplotlib.pyplot as plt"
      ]
    },
    {
      "cell_type": "code",
      "execution_count": null,
      "metadata": {
        "id": "Vo6QX9HWQBAI"
      },
      "outputs": [],
      "source": [
        "plt.figure(figsize=(5.5, 5.5))\n",
        "\n",
        "sns.countplot(x='class', data=df_2class, edgecolor='black')\n",
        "\n",
        "plt.xlabel('Bioactivity class', fontsize=14, fontweight='bold')\n",
        "plt.ylabel('Frequency', fontsize=14, fontweight='bold')\n",
        "\n",
        "plt.savefig('plot_bioactivity_class.pdf')"
      ]
    },
    {
      "cell_type": "markdown",
      "metadata": {
        "id": "D98UEWm-Qeoi"
      },
      "source": [
        "### Scatter plot of MW vs LogP"
      ]
    },
    {
      "cell_type": "code",
      "execution_count": null,
      "metadata": {
        "id": "sBrKgH_RQd1g"
      },
      "outputs": [],
      "source": [
        "plt.figure(figsize=(5.5, 5.5))\n",
        "\n",
        "sns.scatterplot(x='MW', y='LogP', data=df_2class, hue='bioactivity_class', size='pIC50', edgecolor='black', alpha=0.7, palette=['mediumpurple','teal'])\n",
        "\n",
        "plt.xlabel('MW', fontsize=14, fontweight='bold')\n",
        "plt.ylabel('LogP', fontsize=14, fontweight='bold')\n",
        "plt.legend(bbox_to_anchor=(1.05, 1), loc=2, borderaxespad=0)\n",
        "plt.savefig('plot_MW_vs_LogP.pdf')\n",
        "plt.show()\n"
      ]
    },
    {
      "cell_type": "markdown",
      "metadata": {
        "id": "w6sKB5ZGSzGw"
      },
      "source": [
        "### pIC50 Value"
      ]
    },
    {
      "cell_type": "code",
      "execution_count": null,
      "metadata": {
        "id": "7HUsZvjvS2xp"
      },
      "outputs": [],
      "source": [
        "plt.figure(figsize=(5.5, 5.5))\n",
        "\n",
        "sns.boxplot(x='bioactivity_class', y='pIC50', data=df_2class, palette=['mediumpurple','teal'])\n",
        "\n",
        "plt.xlabel('Bioactivity class', fontsize=14, fontweight='bold')\n",
        "plt.ylabel(r'pIC50 value', fontsize=14, fontweight='bold')\n",
        "\n",
        "plt.savefig('plot_ic50.pdf')\n",
        "plt.show()\n"
      ]
    },
    {
      "cell_type": "markdown",
      "metadata": {
        "id": "EZkFjDTUTCZp"
      },
      "source": [
        "### Mann-Whitney U Test"
      ]
    },
    {
      "cell_type": "code",
      "execution_count": null,
      "metadata": {
        "id": "616odKb1TJUY"
      },
      "outputs": [],
      "source": [
        "def mannwhitney(descriptor, verbose=False):\n",
        "  # https://machinelearningmastery.com/nonparametric-statistical-significance-tests-in-python/\n",
        "  from numpy.random import seed\n",
        "  from numpy.random import randn\n",
        "  from scipy.stats import mannwhitneyu\n",
        "\n",
        "# seed the random number generator\n",
        "  seed(1)\n",
        "\n",
        "# actives and inactives\n",
        "  selection = [descriptor, 'bioactivity_class']\n",
        "  df = df_2class[selection]\n",
        "  active = df[df.bioactivity_class == 'active']\n",
        "  active = active[descriptor]\n",
        "\n",
        "  selection = [descriptor, 'bioactivity_class']\n",
        "  df = df_2class[selection]\n",
        "  inactive = df[df.bioactivity_class == 'inactive']\n",
        "  inactive = inactive[descriptor]\n",
        "\n",
        "# compare samples\n",
        "  stat, p = mannwhitneyu(active, inactive)\n",
        "  #print('Statistics=%.3f, p=%.3f' % (stat, p))\n",
        "\n",
        "# interpret\n",
        "  alpha = 0.05\n",
        "  if p > alpha:\n",
        "    interpretation = 'Same distribution (fail to reject H0)'\n",
        "  else:\n",
        "    interpretation = 'Different distribution (reject H0)'\n",
        "\n",
        "  results = pd.DataFrame({'Descriptor':descriptor,\n",
        "                          'Statistics':stat,\n",
        "                          'p':p,\n",
        "                          'alpha':alpha,\n",
        "                          'Interpretation':interpretation}, index=[0])\n",
        "  filename = 'mannwhitneyu_' + descriptor + '.csv'\n",
        "  results.to_csv(filename)\n",
        "\n",
        "  return results\n"
      ]
    },
    {
      "cell_type": "code",
      "execution_count": null,
      "metadata": {
        "id": "m5xXxCAGVX-B"
      },
      "outputs": [],
      "source": [
        "mannwhitney('pIC50')\n"
      ]
    },
    {
      "cell_type": "code",
      "execution_count": null,
      "metadata": {
        "id": "fB6Ca4MgWIB2"
      },
      "outputs": [],
      "source": [
        "plt.figure(figsize=(5.5, 5.5))\n",
        "\n",
        "sns.boxplot(x='bioactivity_class', y='MW', data=df_2class, palette=['mediumpurple','teal'])\n",
        "\n",
        "plt.xlabel('Bioactivity class', fontsize=14, fontweight='bold')\n",
        "plt.ylabel(r'pIC50 value', fontsize=14, fontweight='bold')\n",
        "\n",
        "plt.savefig('plot_MW.pdf')\n",
        "plt.show()\n"
      ]
    },
    {
      "cell_type": "code",
      "execution_count": null,
      "metadata": {
        "id": "T9UX5CFcVlgb"
      },
      "outputs": [],
      "source": [
        "mannwhitney('MW')\n",
        "\n"
      ]
    },
    {
      "cell_type": "code",
      "execution_count": null,
      "metadata": {
        "id": "YvOlG6xVWRj8"
      },
      "outputs": [],
      "source": [
        "plt.figure(figsize=(5.5, 5.5))\n",
        "\n",
        "sns.boxplot(x='bioactivity_class', y='LogP', data=df_2class, palette=['mediumpurple','teal'])\n",
        "\n",
        "plt.xlabel('Bioactivity class', fontsize=14, fontweight='bold')\n",
        "plt.ylabel(r'pIC50 value', fontsize=14, fontweight='bold')\n",
        "\n",
        "plt.savefig('plot_LogP.pdf')\n",
        "plt.show()\n"
      ]
    },
    {
      "cell_type": "code",
      "execution_count": null,
      "metadata": {
        "id": "TWaI3FdtVwdN"
      },
      "outputs": [],
      "source": [
        "mannwhitney('LogP')\n",
        "\n"
      ]
    },
    {
      "cell_type": "code",
      "execution_count": null,
      "metadata": {
        "id": "73mGCxQMWYIg"
      },
      "outputs": [],
      "source": [
        "plt.figure(figsize=(5.5, 5.5))\n",
        "\n",
        "sns.boxplot(x='bioactivity_class', y='NumHDonors', data=df_2class, palette=['mediumpurple','teal'])\n",
        "\n",
        "plt.xlabel('Bioactivity class', fontsize=14, fontweight='bold')\n",
        "plt.ylabel(r'pIC50 value', fontsize=14, fontweight='bold')\n",
        "\n",
        "plt.savefig('plot_NumHDonors.pdf')\n",
        "plt.show()\n"
      ]
    },
    {
      "cell_type": "code",
      "execution_count": null,
      "metadata": {
        "id": "Qq3w7XH_VywU"
      },
      "outputs": [],
      "source": [
        "mannwhitney('NumHDonors')\n",
        "\n",
        "\n"
      ]
    },
    {
      "cell_type": "code",
      "execution_count": null,
      "metadata": {
        "id": "-mvmDog_WeRd"
      },
      "outputs": [],
      "source": [
        "plt.figure(figsize=(5.5, 5.5))\n",
        "\n",
        "sns.boxplot(x='bioactivity_class', y='NumHAcceptors', data=df_2class, palette=['mediumpurple','teal'])\n",
        "\n",
        "plt.xlabel('Bioactivity class', fontsize=14, fontweight='bold')\n",
        "plt.ylabel(r'pIC50 value', fontsize=14, fontweight='bold')\n",
        "\n",
        "plt.savefig('plot_NumHAcceptors.pdf')\n",
        "plt.show()\n"
      ]
    },
    {
      "cell_type": "code",
      "execution_count": null,
      "metadata": {
        "id": "GTnY0FubV3zg"
      },
      "outputs": [],
      "source": [
        "mannwhitney('NumHAcceptors')\n",
        "\n",
        "\n"
      ]
    },
    {
      "cell_type": "markdown",
      "metadata": {
        "id": "wP8XqCJfV6Rl"
      },
      "source": [
        "Zip Function"
      ]
    },
    {
      "cell_type": "code",
      "execution_count": null,
      "metadata": {
        "id": "JS_dM-olJDNO"
      },
      "outputs": [],
      "source": [
        "# ! zip -r results.zip . -i *.csv *.pdf"
      ]
    },
    {
      "cell_type": "markdown",
      "metadata": {},
      "source": [
        "### Part 3"
      ]
    },
    {
      "cell_type": "markdown",
      "metadata": {},
      "source": [
        "! wget https://github.com/dataprofessor/bioinformatics/raw/master/padel.zip\n",
        "! wget https://github.com/dataprofessor/bioinformatics/raw/master/padel.sh"
      ]
    },
    {
      "cell_type": "code",
      "execution_count": null,
      "metadata": {},
      "outputs": [],
      "source": [
        "! unzip padel.zip\n",
        "     "
      ]
    }
  ],
  "metadata": {
    "colab": {
      "provenance": []
    },
    "kernelspec": {
      "display_name": "Python 3",
      "name": "python3"
    },
    "language_info": {
      "codemirror_mode": {
        "name": "ipython",
        "version": 3
      },
      "file_extension": ".py",
      "mimetype": "text/x-python",
      "name": "python",
      "nbconvert_exporter": "python",
      "pygments_lexer": "ipython3",
      "version": "3.11.3"
    }
  },
  "nbformat": 4,
  "nbformat_minor": 0
}
